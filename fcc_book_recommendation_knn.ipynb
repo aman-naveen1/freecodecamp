{
  "cells": [
    {
      "cell_type": "code",
      "execution_count": 30,
      "metadata": {
        "id": "Y1onB6kUvo4Z"
      },
      "outputs": [],
      "source": [
        "import pandas as pd\n",
        "import numpy as np\n",
        "from sklearn.neighbors import NearestNeighbors\n",
        "\n"
      ]
    },
    {
      "cell_type": "code",
      "source": [],
      "metadata": {
        "id": "jkl8YJuCJ-oA"
      },
      "execution_count": null,
      "outputs": []
    },
    {
      "cell_type": "code",
      "execution_count": null,
      "metadata": {
        "id": "iAQGqqO_vo4d",
        "outputId": "fbe07a99-4ce1-4d80-c787-3baef1baeb1d",
        "colab": {
          "base_uri": "https://localhost:8080/"
        }
      },
      "outputs": [
        {
          "output_type": "stream",
          "name": "stdout",
          "text": [
            "--2025-03-31 17:02:44--  https://cdn.freecodecamp.org/project-data/books/book-crossings.zip\n",
            "Resolving cdn.freecodecamp.org (cdn.freecodecamp.org)... 104.26.3.33, 104.26.2.33, 172.67.70.149, ...\n",
            "Connecting to cdn.freecodecamp.org (cdn.freecodecamp.org)|104.26.3.33|:443... connected.\n",
            "HTTP request sent, awaiting response... 200 OK\n",
            "Length: 26085508 (25M) [application/zip]\n",
            "Saving to: ‘book-crossings.zip.1’\n",
            "\n",
            "book-crossings.zip. 100%[===================>]  24.88M  57.9MB/s    in 0.4s    \n",
            "\n",
            "2025-03-31 17:02:44 (57.9 MB/s) - ‘book-crossings.zip.1’ saved [26085508/26085508]\n",
            "\n",
            "Archive:  book-crossings.zip\n",
            "replace BX-Book-Ratings.csv? [y]es, [n]o, [A]ll, [N]one, [r]ename: a\n",
            "error:  invalid response [a]\n",
            "replace BX-Book-Ratings.csv? [y]es, [n]o, [A]ll, [N]one, [r]ename: n\n",
            "replace BX-Books.csv? [y]es, [n]o, [A]ll, [N]one, [r]ename: "
          ]
        }
      ],
      "source": [
        "# get data files\n",
        "!wget https://cdn.freecodecamp.org/project-data/books/book-crossings.zip\n",
        "\n",
        "!unzip book-crossings.zip\n",
        "books = pd.read_csv(\"books.csv\")  # This contains book information (book_id, title, etc.)\n",
        "ratings = pd.read_csv(\"ratings.csv\")  # This contains user ratings (user_id, book_id, rating)\n"
      ]
    },
    {
      "cell_type": "code",
      "execution_count": null,
      "metadata": {
        "id": "NClILWOiEd6Q"
      },
      "outputs": [],
      "source": [
        "# import csv data into dataframes\n",
        "df_books = pd.read_csv(\n",
        "    books_filename,\n",
        "    encoding = \"ISO-8859-1\",\n",
        "    sep=\";\",\n",
        "    header=0,\n",
        "    names=['isbn', 'title', 'author'],\n",
        "    usecols=['isbn', 'title', 'author'],\n",
        "    dtype={'isbn': 'str', 'title': 'str', 'author': 'str'})\n",
        "\n",
        "df_ratings = pd.read_csv(\n",
        "    ratings_filename,\n",
        "    encoding = \"ISO-8859-1\",\n",
        "    sep=\";\",\n",
        "    header=0,\n",
        "    names=['user', 'isbn', 'rating'],\n",
        "    usecols=['user', 'isbn', 'rating'],\n",
        "    dtype={'user': 'int32', 'isbn': 'str', 'rating': 'float32'})"
      ]
    },
    {
      "cell_type": "code",
      "execution_count": null,
      "metadata": {
        "id": "xAcXjkCFCh0A"
      },
      "outputs": [],
      "source": [
        "# Filter users with more than 200 ratings\n",
        "user_rating_count = ratings['user_id'].value_counts()\n",
        "valid_users = user_rating_count[user_rating_count >= 200].index\n",
        "ratings_filtered = ratings[ratings['user_id'].isin(valid_users)]\n",
        "\n",
        "# Filter books with more than 100 ratings\n",
        "book_rating_count = ratings_filtered['book_id'].value_counts()\n",
        "valid_books = book_rating_count[book_rating_count >= 100].index\n",
        "ratings_filtered = ratings_filtered[ratings_filtered['book_id'].isin(valid_books)]\n",
        "\n",
        "# Create a user-item matrix (user_id vs book_id)\n",
        "user_book_matrix = ratings_filtered.pivot_table(index='user_id', columns='book_id', values='rating', fill_value=0)\n",
        "\n",
        "# Normalize the matrix if needed\n",
        "user_book_matrix_normalized = user_book_matrix - user_book_matrix.mean(axis=1).values.reshape(-1, 1)\n"
      ]
    },
    {
      "cell_type": "code",
      "source": [
        "# Fit the KNN model\n",
        "model = NearestNeighbors(metric='cosine', algorithm='brute', n_neighbors=6)\n",
        "model.fit(user_book_matrix_normalized)\n",
        "\n",
        "# Create a function to get recommendations based on book title\n",
        "def get_recommends(book_title):\n",
        "    # Find the book_id corresponding to the title\n",
        "    book_id = books[books['title'] == book_title].iloc[0]['book_id']\n",
        "\n",
        "    # Get the index of the book_id in the user_book_matrix\n",
        "    book_idx = user_book_matrix.columns.get_loc(book_id)\n",
        "\n",
        "    # Find the nearest neighbors (6 because the first one is the book itself)\n",
        "    distances, indices = model.kneighbors(user_book_matrix.iloc[:, book_idx].values.reshape(1, -1), n_neighbors=6)\n",
        "\n",
        "    # Prepare the output\n",
        "    recommendations = []\n",
        "    for i in range(1, len(indices[0])):  # Skip the first book (it will be the same book)\n",
        "        recommended_book_id = user_book_matrix.columns[indices[0][i]]\n",
        "        recommended_book_title = books[books['book_id'] == recommended_book_id].iloc[0]['title']\n",
        "        recommendations.append([recommended_book_title, distances[0][i]])\n",
        "\n",
        "    return [book_title, recommendations]\n"
      ],
      "metadata": {
        "id": "NitSAyEsJp6u"
      },
      "execution_count": null,
      "outputs": []
    },
    {
      "cell_type": "code",
      "source": [
        "# Test the recommendation system\n",
        "recommended_books = get_recommends(\"The Queen of the Damned (Vampire Chronicles (Paperback))\")\n",
        "print(recommended_books)\n"
      ],
      "metadata": {
        "id": "s_fQK0G2Jwi3"
      },
      "execution_count": null,
      "outputs": []
    },
    {
      "cell_type": "code",
      "execution_count": null,
      "metadata": {
        "id": "f5ZUd-L1SQz7"
      },
      "outputs": [],
      "source": [
        "# function to return recommended books - this will be tested\n",
        "def get_recommends(book = \"\"):\n",
        "\n",
        "\n",
        "  return recommended_books"
      ]
    },
    {
      "cell_type": "code",
      "execution_count": null,
      "metadata": {
        "id": "jd2SLCh8oxMh"
      },
      "outputs": [],
      "source": [
        "books = get_recommends(\"Where the Heart Is (Oprah's Book Club (Paperback))\")\n",
        "print(books)\n",
        "\n",
        "def test_book_recommendation():\n",
        "  test_pass = True\n",
        "  recommends = get_recommends(\"Where the Heart Is (Oprah's Book Club (Paperback))\")\n",
        "  if recommends[0] != \"Where the Heart Is (Oprah's Book Club (Paperback))\":\n",
        "    test_pass = False\n",
        "  recommended_books = [\"I'll Be Seeing You\", 'The Weight of Water', 'The Surgeon', 'I Know This Much Is True']\n",
        "  recommended_books_dist = [0.8, 0.77, 0.77, 0.77]\n",
        "  for i in range(2):\n",
        "    if recommends[1][i][0] not in recommended_books:\n",
        "      test_pass = False\n",
        "    if abs(recommends[1][i][1] - recommended_books_dist[i]) >= 0.05:\n",
        "      test_pass = False\n",
        "  if test_pass:\n",
        "    print(\"You passed the challenge! 🎉🎉🎉🎉🎉\")\n",
        "  else:\n",
        "    print(\"You haven't passed yet. Keep trying!\")\n",
        "\n",
        "test_book_recommendation()"
      ]
    }
  ],
  "metadata": {
    "colab": {
      "name": "fcc_book_recommendation_knn.ipynb",
      "provenance": []
    },
    "kernelspec": {
      "display_name": "Python 3",
      "language": "python",
      "name": "python3"
    },
    "language_info": {
      "codemirror_mode": {
        "name": "ipython",
        "version": 3
      },
      "file_extension": ".py",
      "mimetype": "text/x-python",
      "name": "python",
      "nbconvert_exporter": "python",
      "pygments_lexer": "ipython3",
      "version": "3.6.5"
    }
  },
  "nbformat": 4,
  "nbformat_minor": 0
}